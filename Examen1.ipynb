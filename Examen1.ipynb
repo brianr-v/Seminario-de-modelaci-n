{
  "nbformat": 4,
  "nbformat_minor": 0,
  "metadata": {
    "colab": {
      "provenance": [],
      "authorship_tag": "ABX9TyN3moiaSWNpOoGBBPp1GSbw",
      "include_colab_link": true
    },
    "kernelspec": {
      "name": "python3",
      "display_name": "Python 3"
    },
    "language_info": {
      "name": "python"
    }
  },
  "cells": [
    {
      "cell_type": "markdown",
      "metadata": {
        "id": "view-in-github",
        "colab_type": "text"
      },
      "source": [
        "<a href=\"https://colab.research.google.com/github/brianr-v/Seminario-de-modelacion/blob/main/Examen1.ipynb\" target=\"_parent\"><img src=\"https://colab.research.google.com/assets/colab-badge.svg\" alt=\"Open In Colab\"/></a>"
      ]
    },
    {
      "cell_type": "markdown",
      "source": [
        "#Trasnporte público de pasajeros\n",
        "\n",
        "Un trasporte publico de pasajeros tiene las siguientes características\n",
        "\n",
        "1. El llenado de pasajeros tiene un modelo de Poisson, con media 40, que se renueva cada 3 horas (recuerda que la distribución de Poisson no tiene memoria)\n",
        "2. Cada pasajero que sube al trasporte paga 7 u 8 pesos dependiendo de la distancia (menos de 5 km son 7 pesos y más de 5 km son 8 pesos.\n",
        "3. En  una  vuelta  (considere  3  horas  para  cubrir  el  circuito)  los  pasajeros  que  se  trasladan  más  de  5  km  es  una distribución uniforme de entre 15 y 23 pasajeros.\n",
        "4. El gasto de combustible en un circuito completo se comporta como una distribución normal con media de 40 litros y varianza de 25. Investigue el precio del diesel en una semana y realiza un pronóstico adecuado para este caso.\n",
        "5. Considere que cada día hay un desgaste general del camión y se tiene que hacer un ahorro, considere que esos gastos  se  pueden  tomar  como  una  depreciación.  Considere  o  investigue  para  tener  los  datos  más  acertados posibles.\n",
        "6. En un día habitual un chofer realiza 4 circuitos completos.\n",
        "Un trasporte publico de pasajeros tiene las siguientes características\n",
        "\n",
        "Determine las ganacias de un camión de pasajeros en un día completo usando por lo menos 100 simulaciones para cada circuito.\n"
      ],
      "metadata": {
        "id": "WyhiEKVv5e38"
      }
    },
    {
      "cell_type": "markdown",
      "source": [
        "**Importacion de librerias**\n",
        "\n",
        "Primero importamos la libreria numpy\n"
      ],
      "metadata": {
        "id": "8PsTWws66psg"
      }
    },
    {
      "cell_type": "code",
      "execution_count": 1,
      "metadata": {
        "id": "rZdCIVS65eHO"
      },
      "outputs": [],
      "source": [
        "import numpy as np"
      ]
    },
    {
      "cell_type": "markdown",
      "source": [
        "**Total de pasajeros**\n",
        "\n",
        "Generaremos una función de cuantos pasajeros arriban y los ingresos dejan los pasajeros, ya que si viajan menos de 5 kilometos la tarifa es de 7 pesos, y si son más de 5 kilometros cobrareos 8 pesos. En el proceso de Poisson considero una media de 40, pero el arrivo lo hago cada 45 minutos, en vez de 3 horas."
      ],
      "metadata": {
        "id": "PjJ4zE2e7PcQ"
      }
    },
    {
      "cell_type": "code",
      "source": [
        "def total_pasajeros(lambd, n):\n",
        "\n",
        "    # Genera numeros alaeatorios de un proceso de Poisson con media de 40\n",
        "    pasajeros = np.random.poisson(lambd, n)\n",
        "    media_pasajeros = np.mean(pasajeros)                    # Calcula la media de la lista\n",
        "    media_pasajeros = round(media_pasajeros)                # Redondea al entero mas cercano\n",
        "\n",
        "    # Precio de pasaje es de 7 u 8 pesos dependiendo de la distancia (menos de 5 km son 7 pesos y más de 5 km son 8 pesos.\n",
        "    # Pasajeros que se trasladan más de 5 km (8 pesos)\n",
        "    # Genera numeros aleatoriosuniformes entre [13, 23]\n",
        "    pasajeros_mas_5k = np.random.uniform(15,23, n)\n",
        "    media_pasajeros_mas_5k = np.mean(pasajeros_mas_5k)      # Calcula la media de la lista\n",
        "    media_pasajeros_mas_5k= round(media_pasajeros_mas_5k)   # Redondea al entero mas cercano\n",
        "\n",
        "    # Pasajeros que se trasladan menos de 5 km (7 pesos)\n",
        "    pasajeros_5K = media_pasajeros - media_pasajeros_mas_5k\n",
        "\n",
        "    return media_pasajeros, pasajeros_5K, media_pasajeros_mas_5k"
      ],
      "metadata": {
        "id": "tjR1mStn7WYk"
      },
      "execution_count": 2,
      "outputs": []
    },
    {
      "cell_type": "markdown",
      "source": [
        "**Precio del diesel**\n",
        "\n",
        "Para determinar el precio del diésel para el 28 de marzo utilizo series de tiempo, con los datos del 15 de marzo del 2024 al 27 de marzo del 2024, calculo la tasa de cambio promedio, $tasa=\\frac{(ultimo precio-primer precio)}{n}$, a esa tasa le sumo el precio del 27 de marzo."
      ],
      "metadata": {
        "id": "_OXl6_ChSx8z"
      }
    },
    {
      "cell_type": "code",
      "source": [
        "def precio_diesel():\n",
        "    # Datos históricos del precio del diésel\n",
        "    datos = {\n",
        "        \"27 de marzo\": 24.981,\n",
        "        \"26 de marzo\": 24.02,\n",
        "        \"25 de marzo\": 24.973,\n",
        "        \"24 de marzo\": 24.54,\n",
        "        \"23 de marzo\": 24.91,\n",
        "        \"22 de marzo\": 24.398,\n",
        "        \"21 de marzo\": 24.934,\n",
        "        \"20 de marzo\": 24.918,\n",
        "        \"19 de marzo\": 24.903,\n",
        "        \"18 de marzo\": 24.875,\n",
        "        \"17 de marzo\": 24.312,\n",
        "        \"16 de marzo\": 24.312,\n",
        "        \"15 de marzo\": 24.273\n",
        "    }\n",
        "\n",
        "    # Calcular la tasa de cambio promedio\n",
        "    precios = list(datos.values())\n",
        "    tasa_de_cambio_promedio = (precios[-1] - precios[0]) / len(precios)\n",
        "\n",
        "    # Proyectar el precio del diésel para el 27 de marzo\n",
        "    precio_27_marzo = datos[\"27 de marzo\"]\n",
        "    precio_proyectado_28_marzo = precio_27_marzo + tasa_de_cambio_promedio\n",
        "\n",
        "    return precio_proyectado_28_marzo"
      ],
      "metadata": {
        "id": "MF5NK60SS5H4"
      },
      "execution_count": 3,
      "outputs": []
    },
    {
      "cell_type": "markdown",
      "source": [
        "**Desgaste del camión**\n",
        "\n",
        "Aquí considero:\n",
        "* Cambio de llantas cada 4 años\n",
        "* Servicio cada 2 años\n",
        "*\tCambio de frenos cada 3 años"
      ],
      "metadata": {
        "id": "7TXxH6aWTOSo"
      }
    },
    {
      "cell_type": "code",
      "source": [
        "def desgaste(n):\n",
        "    llantas = []        # Cada 4 años\n",
        "    servicio = []       # 10 mil kilometros o cada 2 años\n",
        "    frenos = []         # 30 mil kilometros o cada 3 años\n",
        "\n",
        "    for i in range(n):\n",
        "        # Variable para calcular el precio de los costos de las llantas\n",
        "        u_llantas = np.random.uniform(2349/(4*365), 4675/(4*365)) * 2\n",
        "\n",
        "        # Variables para calcular el precio de los costos del servicio del mantenimiento del motor\n",
        "        u_aditivo = np.random.uniform(124/(2*365), 150 / (2*365))\n",
        "        u_amortiguadores = np.random.uniform(619/(2*365), 660/(2*365)) * 2 #uno delantero y una trasero\n",
        "        u_anticongelante = np.random.uniform(629/(2*365), 650/(2*365))\n",
        "        u_bandas = np.random.uniform(617/(2*365), 630.61/(2*365))\n",
        "        u_filtros = np.random.uniform(592/(2*365), 565/(2*365))\n",
        "        # Costo total del servicio de mantenimiento del motor equivale: 60% los materiales y 40% la mano de obra\n",
        "        mano_obra = ((u_aditivo + u_amortiguadores + u_anticongelante + u_bandas + u_filtros) * 40) / 60\n",
        "\n",
        "        # Variable para calcular el precio de los costos de los frenos\n",
        "        u_balatas = np.random.uniform(1013.37/(3*365), 1150/(3*365)) * 4\n",
        "\n",
        "\n",
        "        llantas.append(u_llantas)\n",
        "        servicio.append(u_aditivo + u_amortiguadores + u_anticongelante + u_bandas + u_filtros + mano_obra)\n",
        "        frenos.append(u_balatas)\n",
        "\n",
        "    media_llantas = np.mean(llantas)\n",
        "    media_servicio = np.mean(servicio)\n",
        "    media_frenos = np.mean(frenos)\n",
        "\n",
        "    return media_llantas + media_servicio + media_frenos"
      ],
      "metadata": {
        "id": "Q9hccnuwTRRb"
      },
      "execution_count": 4,
      "outputs": []
    },
    {
      "cell_type": "markdown",
      "source": [
        "**Circuito**\n",
        "\n",
        "Ahora heceos una función que genera las ganacias finales. Para esto considerare el costo del disel y rendimiento del camion, ademas de que mandare a llamar a la función \"total_pasajeros\" para que me de los ingresos."
      ],
      "metadata": {
        "id": "zP8TfsAB8o18"
      }
    },
    {
      "cell_type": "code",
      "source": [
        "def circuito(n):\n",
        "    # GASTO DEL COMBUSTIBLE\n",
        "    media_combustible = 40\n",
        "    varianza_combustible = 25\n",
        "    desviacion_combustible = np.sqrt(varianza_combustible)\n",
        "\n",
        "    precio_combustible = precio_diesel()\n",
        "    combustible = np.random.normal(media_combustible, desviacion_combustible, 100)  # Simulacion de consumo de diesel\n",
        "    media_combustible = np.mean(combustible)\n",
        "    combustible_simulacion = media_combustible * precio_combustible                 # Simulacion de costo de combustible\n",
        "\n",
        "    ganancias = []                                      # Acumula los precios de pasajeros 5k y mas de 5k\n",
        "    for i in range(4):                                  # El llenado es cada 45 minutos en cada circuito, para que tener ganacias\n",
        "        dia = total_pasajeros(media, n)                 # Llamamos a la función total de pasajeros para simulacion de pasajeros\n",
        "        ganancia_5k = dia[1] * 7\n",
        "        ganancia_mas_5k = dia[2] * 8\n",
        "        ganancias.append(ganancia_5k + ganancia_mas_5k)\n",
        "\n",
        "    ganancias_simulacion = sum(ganancias)\n",
        "\n",
        "    # DESGASTE DEL CAMION\n",
        "    # Llamamos a la función de desgaste\n",
        "    desgaste_promedio = desgaste(n) / 4                 # Dividimos entre 4 porque el desgaste lo calcule diario\n",
        "\n",
        "    ganancias_finales = ganancias_simulacion - combustible_simulacion - desgaste_promedio\n",
        "\n",
        "    return ganancias_finales, combustible_simulacion, ganancias_simulacion\n"
      ],
      "metadata": {
        "id": "_9pkORuc8tdv"
      },
      "execution_count": 5,
      "outputs": []
    },
    {
      "cell_type": "markdown",
      "source": [
        "**Simulación**\n",
        "\n",
        "Mando a llamar a las dos funciones de arriba para generar las ganacias de cada ciruito, para eso creo un ciclo for."
      ],
      "metadata": {
        "id": "B5nuvJK49wgM"
      }
    },
    {
      "cell_type": "code",
      "source": [
        "media = 40                                                  # Media cada 30 minutos\n",
        "n = 100                                                     # Numero de simulaciones\n",
        "\n",
        "ganancias = []\n",
        "combustible = []\n",
        "pasajeros = []\n",
        "desgaste_promedio = desgaste(n)\n",
        "precio_Diesel = precio_diesel()\n",
        "\n",
        "for i in range(4):\n",
        "    simulacion = circuito(n)\n",
        "    combustible.append(simulacion[1])\n",
        "    ganancias.append(simulacion[0])\n",
        "    pasajeros.append(simulacion[2])\n"
      ],
      "metadata": {
        "id": "_7dSq6XC-Cel"
      },
      "execution_count": 6,
      "outputs": []
    },
    {
      "cell_type": "markdown",
      "source": [
        "**Resultados**\n",
        "\n",
        "Imprimo los rsultados de cada circuito que da el camion."
      ],
      "metadata": {
        "id": "yg_9jV6R-Fws"
      }
    },
    {
      "cell_type": "code",
      "source": [
        "print(\"\\nLa simulación dentro de cada circuito son los siguientes\")\n",
        "for i in range(len(combustible)):\n",
        "    print(\"\\nCircuito \", i + 1)\n",
        "    print(\"Los gastos de combustibles son: {:.4f}\".format(combustible[i]))\n",
        "    print(\"Los ingresos por los pasajes son: \", pasajeros[i])\n",
        "    print(\"Las gananancias totales son: {:.4f}\" .format(ganancias[i]))\n",
        "\n",
        "print(\"\\nLas ganacias totales por día son: \", sum(ganancias))\n",
        "\n",
        "print(\"\\nDesgaste diario del camion es: \", desgaste_promedio)\n",
        "\n",
        "print(\"El precio proyectado del diésel para el 28 de marzo es: \", precio_Diesel)"
      ],
      "metadata": {
        "colab": {
          "base_uri": "https://localhost:8080/"
        },
        "id": "GikDbfgR-Q-D",
        "outputId": "0f708949-96b4-4af0-897c-87cce32e110c"
      },
      "execution_count": 7,
      "outputs": [
        {
          "output_type": "stream",
          "name": "stdout",
          "text": [
            "\n",
            "La simulación dentro de cada circuito son los siguientes\n",
            "\n",
            "Circuito  1\n",
            "Los gastos de combustibles son: 988.4746\n",
            "Los ingresos por los pasajes son:  1182\n",
            "Las gananancias totales son: 189.4658\n",
            "\n",
            "Circuito  2\n",
            "Los gastos de combustibles son: 973.4913\n",
            "Los ingresos por los pasajes son:  1195\n",
            "Las gananancias totales son: 217.4196\n",
            "\n",
            "Circuito  3\n",
            "Los gastos de combustibles son: 994.2551\n",
            "Los ingresos por los pasajes son:  1196\n",
            "Las gananancias totales son: 197.6475\n",
            "\n",
            "Circuito  4\n",
            "Los gastos de combustibles son: 996.8545\n",
            "Los ingresos por los pasajes son:  1189\n",
            "Las gananancias totales son: 188.1076\n",
            "\n",
            "Las ganacias totales por día son:  792.6405346422553\n",
            "\n",
            "Desgaste diario del camion es:  16.072065277824915\n",
            "El precio proyectado del diésel para el 28 de marzo es:  24.926538461538463\n"
          ]
        }
      ]
    }
  ]
}