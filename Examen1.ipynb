{
  "nbformat": 4,
  "nbformat_minor": 0,
  "metadata": {
    "colab": {
      "provenance": [],
      "authorship_tag": "ABX9TyMEv9Ih8tO8DZsdb5tS36f/",
      "include_colab_link": true
    },
    "kernelspec": {
      "name": "python3",
      "display_name": "Python 3"
    },
    "language_info": {
      "name": "python"
    }
  },
  "cells": [
    {
      "cell_type": "markdown",
      "metadata": {
        "id": "view-in-github",
        "colab_type": "text"
      },
      "source": [
        "<a href=\"https://colab.research.google.com/github/brianr-v/Seminario-de-modelacion/blob/main/Examen1.ipynb\" target=\"_parent\"><img src=\"https://colab.research.google.com/assets/colab-badge.svg\" alt=\"Open In Colab\"/></a>"
      ]
    },
    {
      "cell_type": "markdown",
      "source": [
        "#Trasnporte público de pasajeros\n",
        "\n",
        "Un trasporte publico de pasajeros tiene las siguientes características\n",
        "\n",
        "1. El llenado de pasajeros tiene un modelo de Poisson, con media 40, que se renueva cada 3 horas (recuerda que la distribución de Poisson no tiene memoria)\n",
        "2. Cada pasajero que sube al trasporte paga 7 u 8 pesos dependiendo de la distancia (menos de 5 km son 7 pesos y más de 5 km son 8 pesos.\n",
        "3. En  una  vuelta  (considere  3  horas  para  cubrir  el  circuito)  los  pasajeros  que  se  trasladan  más  de  5  km  es  una distribución uniforme de entre 15 y 23 pasajeros.\n",
        "4. El gasto de combustible en un circuito completo se comporta como una distribución normal con media de 40 litros y varianza de 25. Investigue el precio del diesel en una semana y realiza un pronóstico adecuado para este caso.\n",
        "5. Considere que cada día hay un desgaste general del camión y se tiene que hacer un ahorro, considere que esos gastos  se  pueden  tomar  como  una  depreciación.  Considere  o  investigue  para  tener  los  datos  más  acertados posibles.\n",
        "6. En un día habitual un chofer realiza 4 circuitos completos.\n",
        "Un trasporte publico de pasajeros tiene las siguientes características\n",
        "\n",
        "Determine las ganacias de un camión de pasajeros en un día completo usando por lo menos 100 simulaciones para cada circuito.\n"
      ],
      "metadata": {
        "id": "WyhiEKVv5e38"
      }
    },
    {
      "cell_type": "markdown",
      "source": [
        "**Importacion de librerias**\n",
        "\n",
        "Primero importamos la libreria numpy\n"
      ],
      "metadata": {
        "id": "8PsTWws66psg"
      }
    },
    {
      "cell_type": "code",
      "execution_count": 1,
      "metadata": {
        "id": "rZdCIVS65eHO"
      },
      "outputs": [],
      "source": [
        "import numpy as np"
      ]
    },
    {
      "cell_type": "markdown",
      "source": [
        "**Total de pasajeros**\n",
        "\n",
        "Generaremos una función de cuantos pasajeros arriban y los ingresos dejan los pasajeros, ya que si viajan menos de 5 kilometos la tarifa es de 7 pesos, y si son más de 5 kilometros cobrareos 8 pesos."
      ],
      "metadata": {
        "id": "PjJ4zE2e7PcQ"
      }
    },
    {
      "cell_type": "code",
      "source": [
        "def total_pasajeros(lambd, n):\n",
        "\n",
        "    # Genera numeros alaeatorios de un proceso de Poisson con media de 40\n",
        "    pasajeros = np.random.poisson(lambd, n)\n",
        "    media_pasajeros = np.mean(pasajeros)                    # Calcula la media de la lista\n",
        "    media_pasajeros = round(media_pasajeros)                # Redondea al entero mas cercano\n",
        "\n",
        "    # Precio de pasaje es de 7 u 8 pesos dependiendo de la distancia (menos de 5 km son 7 pesos y más de 5 km son 8 pesos.\n",
        "    # Pasajeros que se trasladan más de 5 km (8 pesos)\n",
        "    # Genera numeros aleatoriosuniformes entre [13, 23]\n",
        "    pasajeros_mas_5k = np.random.uniform(15,23, n)\n",
        "    media_pasajeros_mas_5k = np.mean(pasajeros_mas_5k)      # Calcula la media de la lista\n",
        "    media_pasajeros_mas_5k= round(media_pasajeros_mas_5k)   # Redondea al entero mas cercano\n",
        "\n",
        "    # Pasajeros que se trasladan menos de 5 km (7 pesos)\n",
        "    pasajeros_5K = media_pasajeros - media_pasajeros_mas_5k\n",
        "\n",
        "    return media_pasajeros, pasajeros_5K, media_pasajeros_mas_5k"
      ],
      "metadata": {
        "id": "tjR1mStn7WYk"
      },
      "execution_count": 2,
      "outputs": []
    },
    {
      "cell_type": "markdown",
      "source": [
        "**Circuito**\n",
        "\n",
        "Ahora heceos una función que genera las ganacias finales. Para esto considerare el costo del disel y rendimiento del camion, ademas de que mandare a llamar a la función \"total_pasajeros\" para que me de los ingresos."
      ],
      "metadata": {
        "id": "zP8TfsAB8o18"
      }
    },
    {
      "cell_type": "code",
      "source": [
        "def circuito(n):\n",
        "    # Gasto de combustible\n",
        "    media_combustible = 40\n",
        "    varianza_combustible = 25\n",
        "    desviacion_combustible = np.sqrt(varianza_combustible)\n",
        "\n",
        "    precio_combustible = 24.475\n",
        "\n",
        "    combustible = np.random.normal(media_combustible, desviacion_combustible, 100)\n",
        "\n",
        "    media_combustible = np.mean(combustible)\n",
        "    #print(\"\\n El total de combustible en un circuito completo es de : \", combustibleSim , \" litros\")\n",
        "    combustible_simulacion = media_combustible * precio_combustible\n",
        "\n",
        "    #print(\"\\n El gasto de gasolina es de combustible en un circuito completo es de : \", combustibleSim,\" pesos mexicanos\")\n",
        "\n",
        "    ganancias = []\n",
        "    for i in range(6):\n",
        "        dia = total_pasajeros(media, n)                 # Llamamos a la función total de pasajeros para simulacion de pasajeros\n",
        "        ganancia_5k = dia[1] * 7\n",
        "        ganancia_mas_5k = dia[2] * 8\n",
        "        ganancias.append(ganancia_5k + ganancia_mas_5k)\n",
        "\n",
        "    ganancias_simulacion = sum(ganancias)\n",
        "    ganancias_finales = ganancias_simulacion - combustible_simulacion\n",
        "\n",
        "    return ganancias_finales, combustible_simulacion, ganancias_simulacion\n"
      ],
      "metadata": {
        "id": "_9pkORuc8tdv"
      },
      "execution_count": 3,
      "outputs": []
    },
    {
      "cell_type": "markdown",
      "source": [
        "**Simulación**\n",
        "\n",
        "Mando a llamar a las dos funciones de arriba para generar las ganacias de cada ciruito, para eso creo un ciclo for."
      ],
      "metadata": {
        "id": "B5nuvJK49wgM"
      }
    },
    {
      "cell_type": "code",
      "source": [
        "media = 40                                                  # Media cada 30 minutos\n",
        "n = 100                                                     # Numero de simulaciones\n",
        "\n",
        "ganancias = []\n",
        "combustible = []\n",
        "pasajeros = []\n",
        "\n",
        "for i in range(4):\n",
        "    simulacion = circuito(n)\n",
        "    combustible.append(simulacion[1])\n",
        "    ganancias.append(simulacion[0])\n",
        "    pasajeros.append(simulacion[2])\n"
      ],
      "metadata": {
        "id": "_7dSq6XC-Cel"
      },
      "execution_count": 4,
      "outputs": []
    },
    {
      "cell_type": "markdown",
      "source": [
        "**Resultados**\n",
        "\n",
        "Imprimo los rsultados de cada circuito que da el camion."
      ],
      "metadata": {
        "id": "yg_9jV6R-Fws"
      }
    },
    {
      "cell_type": "code",
      "source": [
        "print(\"\\nLa simulación dentro de cada circuito son los siguientes\")\n",
        "for i in range(len(combustible)):\n",
        "    print(\"\\nCircuito \", i + 1)\n",
        "    print(\"Los gastos de combustibles son: {:.4f}\".format(combustible[i]))\n",
        "    print(\"Los ingresos por los pasajes son: \", pasajeros[i])\n",
        "    print(\"Las gananancias totales son: {:.4f}\" .format(ganancias[i]))"
      ],
      "metadata": {
        "colab": {
          "base_uri": "https://localhost:8080/"
        },
        "id": "GikDbfgR-Q-D",
        "outputId": "5c2fb52b-29e0-4857-af77-eb741370dac1"
      },
      "execution_count": 5,
      "outputs": [
        {
          "output_type": "stream",
          "name": "stdout",
          "text": [
            "\n",
            "La simulación dentro de cada circuito son los siguientes\n",
            "\n",
            "Circuito  1\n",
            "Los gastos de combustibles son: 963.7675\n",
            "Los ingresos por los pasajes son:  1794\n",
            "Las gananancias totales son: 830.2325\n",
            "\n",
            "Circuito  2\n",
            "Los gastos de combustibles son: 994.0159\n",
            "Los ingresos por los pasajes son:  1794\n",
            "Las gananancias totales son: 799.9841\n",
            "\n",
            "Circuito  3\n",
            "Los gastos de combustibles son: 981.7512\n",
            "Los ingresos por los pasajes son:  1788\n",
            "Las gananancias totales son: 806.2488\n",
            "\n",
            "Circuito  4\n",
            "Los gastos de combustibles son: 992.9523\n",
            "Los ingresos por los pasajes son:  1787\n",
            "Las gananancias totales son: 794.0477\n"
          ]
        }
      ]
    }
  ]
}