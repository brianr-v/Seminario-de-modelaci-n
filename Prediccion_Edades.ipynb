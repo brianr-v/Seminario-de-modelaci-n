{
  "nbformat": 4,
  "nbformat_minor": 0,
  "metadata": {
    "colab": {
      "provenance": [],
      "authorship_tag": "ABX9TyOyuSZACxmxenhjiVA7+X8Q",
      "include_colab_link": true
    },
    "kernelspec": {
      "name": "python3",
      "display_name": "Python 3"
    },
    "language_info": {
      "name": "python"
    }
  },
  "cells": [
    {
      "cell_type": "markdown",
      "metadata": {
        "id": "view-in-github",
        "colab_type": "text"
      },
      "source": [
        "<a href=\"https://colab.research.google.com/github/brianr-v/Seminario-de-modelacion/blob/main/Prediccion_Edades.ipynb\" target=\"_parent\"><img src=\"https://colab.research.google.com/assets/colab-badge.svg\" alt=\"Open In Colab\"/></a>"
      ]
    },
    {
      "cell_type": "markdown",
      "source": [
        "#Predicción de edades de una escuela\n",
        "En un colegio se tienen alumnos entre [11,19] años."
      ],
      "metadata": {
        "id": "QJt-ImsIKZa-"
      }
    },
    {
      "cell_type": "markdown",
      "source": [
        "|Edad | Probabilidad | Acumulada|\n",
        "|-    |-             | -        |\n",
        "|11   |0.03          |0.03      |\n",
        "|12   |0.08          |0.11      |\n",
        "|13   |0.16          |0.27      |\n",
        "|14   |0.22          |0.49      |\n",
        "|15   |0.18          |0.68      |\n",
        "|16   |0.13          |0.81      |\n",
        "|17   |0.10          |0.90      |\n",
        "|18   |0.06          |0.96      |\n",
        "|19   |0.04          |1      |"
      ],
      "metadata": {
        "id": "9dE38nphK18e"
      }
    },
    {
      "cell_type": "code",
      "execution_count": 2,
      "metadata": {
        "colab": {
          "base_uri": "https://localhost:8080/"
        },
        "id": "0D_0jpJnKX5q",
        "outputId": "cc89ae7f-f84d-45d0-904a-87aa23c573ec"
      },
      "outputs": [
        {
          "output_type": "stream",
          "name": "stdout",
          "text": [
            "\n",
            "La media es:  14.71\n",
            "\n",
            "La moda es:  14\n",
            "\n",
            "La mediana es :  15.0\n",
            "\n",
            "El intervalode confianza es : 14.224655556537423 15.195344443462579\n"
          ]
        }
      ],
      "source": [
        "import random\n",
        "import numpy as np\n",
        "import statistics\n",
        "import scipy.stats as stats\n",
        "import pandas as pd\n",
        "\n",
        "edades = [11, 12, 13, 14, 15, 16 , 17 , 18 ,19]\n",
        "p = [0.03, 0.08,0.16, 0.22, 0.18, 0.13, 0.1, .06 ,0.04 ]\n",
        "n = 100\n",
        "#intervalo = 0\n",
        "sim_edad = []\n",
        "u_lista = []\n",
        "\n",
        "def intervalos(u):\n",
        "    intervalo = 0\n",
        "    for s in range(len(p)):\n",
        "        if u <= intervalo + p[s]:\n",
        "            sim_edad.append (edades[s])\n",
        "            break\n",
        "        intervalo += p[s]\n",
        "\n",
        "for i in range(n):\n",
        "    u = random.random()\n",
        "    u_lista.append(u)\n",
        "    intervalos(u)\n",
        "\n",
        "\n",
        "media = sum(sim_edad)/ n\n",
        "moda =  statistics.mode(sim_edad)\n",
        "mediana = statistics.median(sim_edad)\n",
        "\n",
        "# imprimir resultados\n",
        "print(\"\\nLa media es: \", media)\n",
        "print(\"\\nLa moda es: \", moda)\n",
        "print(\"\\nLa mediana es : \", mediana)\n",
        "\n",
        "# Intervalode confianza\n",
        "print(\"\\nEl intervalode confianza es :\", np.mean(sim_edad) - 1.96*np.std(sim_edad)/np.sqrt(50), np.mean(sim_edad) + 1.96*np.std(sim_edad)/np.sqrt(50))\n"
      ]
    }
  ]
}