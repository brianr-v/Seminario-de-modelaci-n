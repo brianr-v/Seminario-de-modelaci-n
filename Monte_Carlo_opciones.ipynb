{
  "nbformat": 4,
  "nbformat_minor": 0,
  "metadata": {
    "colab": {
      "provenance": [],
      "authorship_tag": "ABX9TyMNezPONuts6rkmxv4ng0qn",
      "include_colab_link": true
    },
    "kernelspec": {
      "name": "python3",
      "display_name": "Python 3"
    },
    "language_info": {
      "name": "python"
    }
  },
  "cells": [
    {
      "cell_type": "markdown",
      "metadata": {
        "id": "view-in-github",
        "colab_type": "text"
      },
      "source": [
        "<a href=\"https://colab.research.google.com/github/brianr-v/Seminario-de-modelacion/blob/main/Monte_Carlo_opciones.ipynb\" target=\"_parent\"><img src=\"https://colab.research.google.com/assets/colab-badge.svg\" alt=\"Open In Colab\"/></a>"
      ]
    },
    {
      "cell_type": "markdown",
      "source": [
        "**Calculo de prima de opciones por método de Monte Carlo**"
      ],
      "metadata": {
        "id": "Ex2fdbMyQf2C"
      }
    },
    {
      "cell_type": "code",
      "execution_count": 1,
      "metadata": {
        "colab": {
          "base_uri": "https://localhost:8080/"
        },
        "id": "YKeqiHamQTJK",
        "outputId": "cb74b519-bbe8-4c37-8d6d-b31f76928188"
      },
      "outputs": [
        {
          "output_type": "stream",
          "name": "stdout",
          "text": [
            "\n",
            "Precio del activo hoy:  166.89999389648438\n",
            "Precio de ejercicio es:  155\n",
            "Precio de la opción CALL:  19.737674057102144\n",
            "Precio de la opción PUT:  0.0\n"
          ]
        }
      ],
      "source": [
        "import numpy as np\n",
        "import yfinance as yf\n",
        "\n",
        "def monte_carlo(S0, K, r, sigma, T, tipo_opcion, num_simualcion):\n",
        "    dt = T/252              # Establecmos que hay 252 dias habiles en un año\n",
        "    pasos = int(T*252)      # Número de pasos de tiempo\n",
        "    z = np.random.normal(0, 1, (num_simualcion, pasos)) # Numeros alatoriso con distribución normal\n",
        "    # Simulacion de precios del activo subyacente\n",
        "    S = S0*np.exp(np.cumsum( (r - 0.5*sigma**2)*dt + sigma*np.sqrt(dt)*z, axis=1) )\n",
        "\n",
        "    if tipo_opcion == 'CALL':\n",
        "        payoff = np.maximum(S[:, -1] - K, 0)\n",
        "    elif tipo_opcion == 'PUT':\n",
        "        payoff = np.maximum(K - S[:, -1], 0)\n",
        "\n",
        "    # Calculo del valor presente del pago de la opción\n",
        "    valor_payoff = np.exp(-r*T) * payoff\n",
        "\n",
        "    # CAlculo del valor presente del pago de la opción\n",
        "    valor_opcion = np.mean(valor_payoff)\n",
        "\n",
        "    return valor_opcion\n",
        "\n",
        "AAPL_Ticker = yf.Ticker(\"AAPL\")                     # Crear un objeto Ticker para la acción Apple\n",
        "\n",
        "precio_hoy = AAPL_Ticker.history(period='1d')['Close'][0]\n",
        "S0 = precio_hoy\n",
        "K = 155                                              # Precio de ejercicio de la opción\n",
        "r = 0.0517                                          # Tasa de interes libre de riesgo\n",
        "\n",
        "# Volatilidad del activo subyecente\n",
        "precio_historico = AAPL_Ticker.history(period='1y')\n",
        "rendimientos_diarios = precio_historico['Close'].pct_change()  # Calcula rendimientos diarios\n",
        "sigma = rendimientos_diarios.std()                  # Calcula la volatilidad como la desviación estandar de los rendimientos\n",
        "T = 1                                               # Tiempo hasta el vencimiento de la opción en años\n",
        "simulaciones = 10000                                # Número de simulaciones\n",
        "\n",
        "# Valuación de una acción\n",
        "print(\"\\nPrecio del activo hoy: \", precio_hoy)\n",
        "print(\"Precio de ejercicio es: \", K)\n",
        "opcion_CALL = monte_carlo(S0, K, r, sigma, T, 'CALL', simulaciones)\n",
        "print(\"Precio de la opción CALL: \", opcion_CALL)\n",
        "\n",
        "# Valuación de una acción PUT\n",
        "opcion_PUT = monte_carlo(S0, K, r, sigma, T, 'PUT', simulaciones)\n",
        "print(\"Precio de la opción PUT: \", opcion_PUT)\n"
      ]
    }
  ]
}